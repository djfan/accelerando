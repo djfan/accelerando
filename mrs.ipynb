{
 "cells": [
  {
   "cell_type": "code",
   "execution_count": 66,
   "metadata": {
    "collapsed": false,
    "deletable": true,
    "editable": true
   },
   "outputs": [
    {
     "data": {
      "text/plain": [
       "<pyspark.context.SparkContext at 0x7f1712880850>"
      ]
     },
     "execution_count": 66,
     "metadata": {},
     "output_type": "execute_result"
    }
   ],
   "source": [
    "sc"
   ]
  },
  {
   "cell_type": "code",
   "execution_count": 67,
   "metadata": {
    "collapsed": true,
    "deletable": true,
    "editable": true
   },
   "outputs": [],
   "source": [
    "import pandas as pd\n",
    "from pyspark.mllib.recommendation import *\n",
    "import random\n",
    "from operator import *"
   ]
  },
  {
   "cell_type": "code",
   "execution_count": 68,
   "metadata": {
    "collapsed": false,
    "deletable": true,
    "editable": true
   },
   "outputs": [
    {
     "data": {
      "text/html": [
       "<div>\n",
       "<style>\n",
       "    .dataframe thead tr:only-child th {\n",
       "        text-align: right;\n",
       "    }\n",
       "\n",
       "    .dataframe thead th {\n",
       "        text-align: left;\n",
       "    }\n",
       "\n",
       "    .dataframe tbody tr th {\n",
       "        vertical-align: top;\n",
       "    }\n",
       "</style>\n",
       "<table border=\"1\" class=\"dataframe\">\n",
       "  <thead>\n",
       "    <tr style=\"text-align: right;\">\n",
       "      <th></th>\n",
       "      <th>user</th>\n",
       "      <th>song</th>\n",
       "      <th>counts</th>\n",
       "    </tr>\n",
       "  </thead>\n",
       "  <tbody>\n",
       "    <tr>\n",
       "      <th>0</th>\n",
       "      <td>b80344d063b5ccb3212f76538f3d9e43d87dca9e</td>\n",
       "      <td>SOAKIMP12A8C130995</td>\n",
       "      <td>1</td>\n",
       "    </tr>\n",
       "    <tr>\n",
       "      <th>1</th>\n",
       "      <td>b80344d063b5ccb3212f76538f3d9e43d87dca9e</td>\n",
       "      <td>SOAPDEY12A81C210A9</td>\n",
       "      <td>1</td>\n",
       "    </tr>\n",
       "    <tr>\n",
       "      <th>2</th>\n",
       "      <td>b80344d063b5ccb3212f76538f3d9e43d87dca9e</td>\n",
       "      <td>SOBBMDR12A8C13253B</td>\n",
       "      <td>2</td>\n",
       "    </tr>\n",
       "    <tr>\n",
       "      <th>3</th>\n",
       "      <td>b80344d063b5ccb3212f76538f3d9e43d87dca9e</td>\n",
       "      <td>SOBFNSP12AF72A0E22</td>\n",
       "      <td>1</td>\n",
       "    </tr>\n",
       "    <tr>\n",
       "      <th>4</th>\n",
       "      <td>b80344d063b5ccb3212f76538f3d9e43d87dca9e</td>\n",
       "      <td>SOBFOVM12A58A7D494</td>\n",
       "      <td>1</td>\n",
       "    </tr>\n",
       "  </tbody>\n",
       "</table>\n",
       "</div>"
      ],
      "text/plain": [
       "                                       user                song  counts\n",
       "0  b80344d063b5ccb3212f76538f3d9e43d87dca9e  SOAKIMP12A8C130995       1\n",
       "1  b80344d063b5ccb3212f76538f3d9e43d87dca9e  SOAPDEY12A81C210A9       1\n",
       "2  b80344d063b5ccb3212f76538f3d9e43d87dca9e  SOBBMDR12A8C13253B       2\n",
       "3  b80344d063b5ccb3212f76538f3d9e43d87dca9e  SOBFNSP12AF72A0E22       1\n",
       "4  b80344d063b5ccb3212f76538f3d9e43d87dca9e  SOBFOVM12A58A7D494       1"
      ]
     },
     "execution_count": 68,
     "metadata": {},
     "output_type": "execute_result"
    }
   ],
   "source": [
    "data = pd.read_table(\"./train_triplets.txt\", header=None, nrows=1000)\n",
    "data.columns = ['user', 'song', 'counts']\n",
    "data.head()\n",
    "# print data.user.unique().shape\n",
    "# print data.song.unique().shape\n",
    "# print sum(data.counts)"
   ]
  },
  {
   "cell_type": "code",
   "execution_count": 89,
   "metadata": {
    "collapsed": false,
    "deletable": true,
    "editable": true
   },
   "outputs": [
    {
     "name": "stdout",
     "output_type": "stream",
     "text": [
      "(13, 2)\n",
      "(951, 2)\n"
     ]
    }
   ],
   "source": [
    "userID = pd.DataFrame({'user':data.user.unique(), 'uid':range(data.user.unique().shape[0])})\n",
    "songID = pd.DataFrame({'song':data.song.unique(), 'sid':range(data.song.unique().shape[0])})\n",
    "print userID.shape\n",
    "print songID.shape"
   ]
  },
  {
   "cell_type": "code",
   "execution_count": 70,
   "metadata": {
    "collapsed": false,
    "deletable": true,
    "editable": true
   },
   "outputs": [],
   "source": [
    "data2 = data.copy()\n",
    "data2 = pd.merge(data2, userID, on='user')\n",
    "data2 = pd.merge(data2, songID, on='song')"
   ]
  },
  {
   "cell_type": "code",
   "execution_count": 71,
   "metadata": {
    "collapsed": false,
    "deletable": true,
    "editable": true
   },
   "outputs": [],
   "source": [
    "data2.to_csv(\"./id_train_triplets.csv\", index=False, header=False)"
   ]
  },
  {
   "cell_type": "markdown",
   "metadata": {
    "deletable": true,
    "editable": true
   },
   "source": [
    "# sc"
   ]
  },
  {
   "cell_type": "code",
   "execution_count": 72,
   "metadata": {
    "collapsed": false,
    "deletable": true,
    "editable": true
   },
   "outputs": [],
   "source": [
    "musicData = sc.textFile('./id_train_triplets.csv', use_unicode=False, ).map(lambda x: x.split(',')).map(lambda x: (int(x[3]), int(x[4]), int(x[2])))"
   ]
  },
  {
   "cell_type": "code",
   "execution_count": 73,
   "metadata": {
    "collapsed": false
   },
   "outputs": [
    {
     "data": {
      "text/plain": [
       "[(0, 0, 1), (0, 1, 1)]"
      ]
     },
     "execution_count": 73,
     "metadata": {},
     "output_type": "execute_result"
    }
   ],
   "source": [
    "musicData.map"
   ]
  },
  {
   "cell_type": "code",
   "execution_count": 74,
   "metadata": {
    "collapsed": false,
    "deletable": true,
    "editable": true
   },
   "outputs": [
    {
     "data": {
      "text/plain": [
       "PythonRDD[8370] at RDD at PythonRDD.scala:48"
      ]
     },
     "execution_count": 74,
     "metadata": {},
     "output_type": "execute_result"
    }
   ],
   "source": [
    "trainData, validationData, testData = musicData.randomSplit([0.4, 0.4, 0.2], 13)\n",
    "trainData.cache()\n",
    "validationData.cache()\n",
    "testData.cache()"
   ]
  },
  {
   "cell_type": "code",
   "execution_count": 107,
   "metadata": {
    "collapsed": false,
    "deletable": true,
    "editable": true
   },
   "outputs": [],
   "source": [
    "def modelEval(model,dataset,rank):\n",
    "    \n",
    "    datasetMap = dataset.map(lambda x:(x[0],x[1])).groupByKey().collectAsMap()\n",
    "    trainDataMap = trainData.map(lambda x:(x[0],x[1])).groupByKey().collectAsMap() # collectAsMap: list[(a,1)..] - > dict{a:1..}\n",
    "    allSongs = musicData.map(lambda x:(x[1])).collect()\n",
    "    \n",
    "    total=0.0\n",
    "    userCount=0\n",
    "    \n",
    "    for user in datasetMap.keys(): # validation data: datasetMap\n",
    "        songsInTrainData=trainDataMap.get(user) #not dict[key]: -> dictionary.get(\"bogus\")  # <-- No default specified -- defaults to None\n",
    "        songsNotInTrainData=[]\n",
    "        for x in allSongs:\n",
    "            if x not in songsInTrainData:\n",
    "                songsNotInTrainData.append(x)\n",
    "        result=[]\n",
    "        for x in songsNotInTrainData:\n",
    "            record=(user,x)\n",
    "            result.append(record)\n",
    "        finalRDD=sc.parallelize(result)\n",
    "        finalResult=model.predictAll(finalRDD) # what does finalResult look like??? score? rank? (user, songNotInTrain, ???score|rank)\n",
    "        prediction = finalResult.map(lambda x: (x[2], x[1])).sortByKey(False).map(lambda x: x[1]) #Asecending=False ->Desc: High to Low\n",
    "        # ordered list of Song (not in training data, songs which the user didn't listen to before): Desc: from the best recommendation\n",
    "        \n",
    "        trueSongs=datasetMap.get(user) # validation data: list of songs -> ready to compare with prediction of validation data\n",
    "        X=len(trueSongs)\n",
    "        \n",
    "        \n",
    "        total += len(set(prediction.take(X)).intersection(set(trueSongs)))/float(X)\n",
    "        userCount += 1\n",
    "        \n",
    "    \n",
    "    print \"The model score for rank %d is %f\"%(rank,float(total/float(userCount)))\n"
   ]
  },
  {
   "cell_type": "code",
   "execution_count": 143,
   "metadata": {
    "collapsed": false
   },
   "outputs": [
    {
     "data": {
      "text/plain": [
       "[(0, 1, 1), (0, 2, 2), (0, 6, 2)]"
      ]
     },
     "execution_count": 143,
     "metadata": {},
     "output_type": "execute_result"
    }
   ],
   "source": [
    "trainData.take(3)"
   ]
  },
  {
   "cell_type": "code",
   "execution_count": 121,
   "metadata": {
    "collapsed": false,
    "deletable": true,
    "editable": true
   },
   "outputs": [
    {
     "name": "stdout",
     "output_type": "stream",
     "text": [
      "The model score for rank 10 is 0.004617\n",
      "The model score for rank 20 is 0.001296\n",
      "The model score for rank 30 is 0.002161\n",
      "The model score for rank 40 is 0.002161\n"
     ]
    }
   ],
   "source": [
    "ranks=[10, 20, 30, 40]\n",
    "for r in ranks:\n",
    "    Model = ALS.trainImplicit(trainData, rank=r, seed=345) # \n",
    "    modelEval(Model, validationData, r)"
   ]
  },
  {
   "cell_type": "code",
   "execution_count": 122,
   "metadata": {
    "collapsed": false,
    "deletable": true,
    "editable": true
   },
   "outputs": [
    {
     "name": "stdout",
     "output_type": "stream",
     "text": [
      "The model score for rank 10 is 0.002161\n",
      "The model score for rank 20 is 0.004195\n",
      "The model score for rank 30 is 0.002593\n",
      "The model score for rank 40 is 0.002161\n"
     ]
    }
   ],
   "source": [
    "ranks=[10, 20, 30, 40]\n",
    "for r in ranks:\n",
    "    Model = ALS.train(trainData, rank=r, seed=345)\n",
    "    modelEval(Model, validationData, r)"
   ]
  },
  {
   "cell_type": "code",
   "execution_count": 123,
   "metadata": {
    "collapsed": false
   },
   "outputs": [
    {
     "name": "stdout",
     "output_type": "stream",
     "text": [
      "The model score for rank 10 is 0.001789\n",
      "The model score for rank 20 is 0.001789\n"
     ]
    }
   ],
   "source": [
    "bestModel_1 = ALS.trainImplicit(trainData, rank=10, seed=345) \n",
    "bestModel_2 = ALS.train(trainData, rank=20, seed=345) \n",
    "modelEval(bestModel, testData, rank=10)\n",
    "modelEval(bestModel, testData, rank=20)"
   ]
  },
  {
   "cell_type": "code",
   "execution_count": 141,
   "metadata": {
    "collapsed": false,
    "deletable": true,
    "editable": true
   },
   "outputs": [
    {
     "name": "stdout",
     "output_type": "stream",
     "text": [
      "Rating(user=1, product=112, rating=0.9824783192851354)\n",
      "Rating(user=1, product=124, rating=0.9824783192851354)\n",
      "Rating(user=1, product=120, rating=0.9824783192851354)\n",
      "Rating(user=1, product=123, rating=0.9822629804740902)\n",
      "Rating(user=1, product=115, rating=0.9822629804740902)\n",
      "\n",
      "\n",
      "Rating(user=1, product=197, rating=6.738464191373322)\n",
      "Rating(user=1, product=823, rating=5.611994807301073)\n",
      "Rating(user=1, product=715, rating=5.611994807301073)\n",
      "Rating(user=1, product=632, rating=5.300217219601269)\n",
      "Rating(user=1, product=940, rating=4.98843937137643)\n"
     ]
    }
   ],
   "source": [
    "topFive_1 = bestModel_1.recommendProducts(1,5)\n",
    "topFive_2 = bestModel_2.recommendProducts(1,5)\n",
    "for x in topFive_1:\n",
    "    print x\n",
    "print '\\n'\n",
    "for x in topFive_2:\n",
    "    print x"
   ]
  },
  {
   "cell_type": "code",
   "execution_count": 155,
   "metadata": {
    "collapsed": false
   },
   "outputs": [
    {
     "data": {
      "text/plain": [
       "PythonRDD[21270] at RDD at PythonRDD.scala:48"
      ]
     },
     "execution_count": 155,
     "metadata": {},
     "output_type": "execute_result"
    }
   ],
   "source": [
    "musicData.map(lambda x: x[1]).distinct()"
   ]
  },
  {
   "cell_type": "code",
   "execution_count": 154,
   "metadata": {
    "collapsed": false
   },
   "outputs": [],
   "source": [
    "# SongMap=musicData.map(lambda x: x[1]).distinct().collectAsMap()\n",
    "\n",
    "# for i, song in enumerate(topFive_1):\n",
    "#     print \"Artist \" + str(i) + \": \" + artistMap.get(artist[1])"
   ]
  }
 ],
 "metadata": {
  "kernelspec": {
   "display_name": "Python 2",
   "language": "python",
   "name": "python2"
  },
  "language_info": {
   "codemirror_mode": {
    "name": "ipython",
    "version": 2
   },
   "file_extension": ".py",
   "mimetype": "text/x-python",
   "name": "python",
   "nbconvert_exporter": "python",
   "pygments_lexer": "ipython2",
   "version": "2.7.13"
  }
 },
 "nbformat": 4,
 "nbformat_minor": 2
}
